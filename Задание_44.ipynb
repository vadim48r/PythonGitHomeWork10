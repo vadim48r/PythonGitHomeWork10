{
  "nbformat": 4,
  "nbformat_minor": 0,
  "metadata": {
    "colab": {
      "provenance": [],
      "authorship_tag": "ABX9TyPsQ/hc9+giWiD3Q7OvKrBN",
      "include_colab_link": true
    },
    "kernelspec": {
      "name": "python3",
      "display_name": "Python 3"
    },
    "language_info": {
      "name": "python"
    }
  },
  "cells": [
    {
      "cell_type": "markdown",
      "metadata": {
        "id": "view-in-github",
        "colab_type": "text"
      },
      "source": [
        "<a href=\"https://colab.research.google.com/github/vadim48r/PythonGitHomeWork10/blob/main/%D0%97%D0%B0%D0%B4%D0%B0%D0%BD%D0%B8%D0%B5_44.ipynb\" target=\"_parent\"><img src=\"https://colab.research.google.com/assets/colab-badge.svg\" alt=\"Open In Colab\"/></a>"
      ]
    },
    {
      "cell_type": "markdown",
      "source": [
        "**Знакомство с языком Python (семинары)**    \n",
        "**Задание 44**  \n",
        "В ячейке ниже представлен код генерирующий DataFrame, которая состоит всего из 1 столбца. Ваша задача перевести его в one hot вид. Сможете ли вы это сделать без get_dummies?  \n",
        "import random  \n",
        "lst = ['robot'] * 10  \n",
        "lst += ['human'] * 10  \n",
        "random.shuffle(lst)  \n",
        "data = pd.DataFrame({'whoAmI'lst})  \n",
        "data.head()  "
      ],
      "metadata": {
        "id": "8I5DiLsG28tI"
      }
    },
    {
      "cell_type": "code",
      "execution_count": null,
      "metadata": {
        "id": "liIjzFYJ0yws"
      },
      "outputs": [],
      "source": [
        "# Решение 1\n",
        "\n",
        "import pandas as pd\n",
        "\n",
        "lst1 = []\n",
        "lst2 = []\n",
        "for i in range(len(lst)):\n",
        "  if lst[i] == 'human':\n",
        "    lst1.append(int(1))\n",
        "    lst2.append(int(0))\n",
        "  else:\n",
        "    lst1.append(int(0))\n",
        "    lst2.append(int(1))\n",
        "\n",
        "data2 = pd.DataFrame({'whoAmI': lst, 'human': lst1, 'robot': lst2})\n",
        "data2\n"
      ]
    },
    {
      "cell_type": "code",
      "source": [
        "# Решение 2\n",
        "import pandas as pd\n",
        "import random\n",
        "lst = ['robot'] * 10\n",
        "lst += ['human'] * 10\n",
        "random.shuffle(lst)\n",
        "data = pd.DataFrame({'whoAmI':lst})\n",
        "print(data.head())\n",
        "\n",
        "one_hot_data = pd.DataFrame({'robot': [1 if i == 'robot' else 0 for i in lst], 'human': [1 if j == 'human' else 0 for j in lst]})\n",
        "print(one_hot_data)\n",
        "pd.get_dummies(data['whoAmI'])\n"
      ],
      "metadata": {
        "id": "IZYZ1-t_19KZ"
      },
      "execution_count": null,
      "outputs": []
    }
  ]
}